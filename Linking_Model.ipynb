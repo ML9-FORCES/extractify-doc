{
  "cells": [
    {
      "cell_type": "markdown",
      "source": [
        "# **Model Training**"
      ],
      "metadata": {
        "id": "4M6MfThSXBLa"
      }
    },
    {
      "cell_type": "code",
      "execution_count": 1,
      "metadata": {
        "id": "ji1_h7u0dtmM",
        "colab": {
          "base_uri": "https://localhost:8080/"
        },
        "outputId": "2bfacf90-82a4-4f9b-f630-eab165117036"
      },
      "outputs": [
        {
          "output_type": "stream",
          "name": "stdout",
          "text": [
            "Cloning into 'extractify-doc'...\n",
            "remote: Enumerating objects: 414, done.\u001b[K\n",
            "remote: Counting objects: 100% (414/414), done.\u001b[K\n",
            "remote: Compressing objects: 100% (215/215), done.\u001b[K\n",
            "remote: Total 414 (delta 199), reused 410 (delta 198), pack-reused 0\u001b[K\n",
            "Receiving objects: 100% (414/414), 15.88 MiB | 19.11 MiB/s, done.\n",
            "Resolving deltas: 100% (199/199), done.\n"
          ]
        }
      ],
      "source": [
        "#Download-Dataset\n",
        "!git clone https://github.com/ML9-FORCES/extractify-doc"
      ]
    },
    {
      "cell_type": "code",
      "execution_count": 2,
      "metadata": {
        "id": "TBXpTs3Bf1R1",
        "colab": {
          "base_uri": "https://localhost:8080/"
        },
        "outputId": "31da53c5-d6b4-4733-c242-60da35c6d629"
      },
      "outputs": [
        {
          "output_type": "stream",
          "name": "stdout",
          "text": [
            "Collecting scikit-plot\n",
            "  Downloading scikit_plot-0.3.7-py3-none-any.whl (33 kB)\n",
            "Requirement already satisfied: scikit-learn>=0.18 in /usr/local/lib/python3.7/dist-packages (from scikit-plot) (1.0.1)\n",
            "Requirement already satisfied: joblib>=0.10 in /usr/local/lib/python3.7/dist-packages (from scikit-plot) (1.1.0)\n",
            "Requirement already satisfied: matplotlib>=1.4.0 in /usr/local/lib/python3.7/dist-packages (from scikit-plot) (3.2.2)\n",
            "Requirement already satisfied: scipy>=0.9 in /usr/local/lib/python3.7/dist-packages (from scikit-plot) (1.4.1)\n",
            "Requirement already satisfied: python-dateutil>=2.1 in /usr/local/lib/python3.7/dist-packages (from matplotlib>=1.4.0->scikit-plot) (2.8.2)\n",
            "Requirement already satisfied: cycler>=0.10 in /usr/local/lib/python3.7/dist-packages (from matplotlib>=1.4.0->scikit-plot) (0.11.0)\n",
            "Requirement already satisfied: pyparsing!=2.0.4,!=2.1.2,!=2.1.6,>=2.0.1 in /usr/local/lib/python3.7/dist-packages (from matplotlib>=1.4.0->scikit-plot) (3.0.6)\n",
            "Requirement already satisfied: kiwisolver>=1.0.1 in /usr/local/lib/python3.7/dist-packages (from matplotlib>=1.4.0->scikit-plot) (1.3.2)\n",
            "Requirement already satisfied: numpy>=1.11 in /usr/local/lib/python3.7/dist-packages (from matplotlib>=1.4.0->scikit-plot) (1.19.5)\n",
            "Requirement already satisfied: six>=1.5 in /usr/local/lib/python3.7/dist-packages (from python-dateutil>=2.1->matplotlib>=1.4.0->scikit-plot) (1.15.0)\n",
            "Requirement already satisfied: threadpoolctl>=2.0.0 in /usr/local/lib/python3.7/dist-packages (from scikit-learn>=0.18->scikit-plot) (3.0.0)\n",
            "Installing collected packages: scikit-plot\n",
            "Successfully installed scikit-plot-0.3.7\n"
          ]
        }
      ],
      "source": [
        "import numpy as np\n",
        "import tensorflow as tf\n",
        "import pandas as pd\n",
        "import os\n",
        "import json\n",
        "!pip install scikit-plot\n",
        "import scikitplot as skplt\n",
        "import sklearn.metrics as metrics\n",
        "import matplotlib.pyplot as plt"
      ]
    },
    {
      "cell_type": "code",
      "execution_count": 3,
      "metadata": {
        "id": "baEfRxSqe1Pf"
      },
      "outputs": [],
      "source": [
        "#Helper-function - (Required in training Only)\n",
        "def hot_encode(value):\n",
        "  encode={'question': 1 ,'other': 0, 'header': 0, 'answer': 2}\n",
        "  decode={1:'key',2:'value',0:'other'}\n",
        "  try:\n",
        "    return encode[value]\n",
        "  except:\n",
        "    return decode[value]\n",
        "\n",
        "class word:\n",
        "  def __init__(self,data,lab):\n",
        "    self.id = data['id'] \n",
        "    self.coordinate = data['box']\n",
        "    self.idm = [i[{1:1,2:0}[lab]] for i in data['linking']]\n",
        "    self.label= lab\n",
        "\n",
        "def summary(box):\n",
        "  width=box[2]-box[0]\n",
        "  height=box[3]-box[1]\n",
        "  c_x=(box[0]+box[2])/2\n",
        "  c_y=(box[1]+box[3])/2\n",
        "  return c_x,c_y,width,height\n",
        "\n",
        "def feature_extractor(coor):\n",
        "  b1=summary(coor[0])\n",
        "  b2=summary(coor[1])\n",
        "  dis=(b1[0]-b2[0])**2 + (b1[1]-b2[1])**2\n",
        "  dis=dis**0.5\n",
        "  sin=(b1[1]-b2[1])/dis\n",
        "  sin*= -1 if sin<0 else 1\n",
        "  relative_width = b1[2]/b2[2] if b2[2]>b1[2] else b2[2]/b1[2]\n",
        "  relative_height = b1[3]/b2[3] if b2[3]>b1[3] else b2[3]/b1[3]\n",
        "  return dis/1000,sin,relative_width,relative_height\n",
        "\n",
        "#Extracts data \n",
        "def extract(path,n,flag=0):\n",
        "  dataset={'input':[],'output':[]}\n",
        "  for filename in os.listdir(path):\n",
        "    f = os.path.join(path, filename)\n",
        "    if os.path.isfile(f):\n",
        "      file_ = open(f)\n",
        "      form = json.load(file_)\n",
        "      file_.close()\n",
        "      key=[]\n",
        "      value=[]\n",
        "      for i in form['form']:\n",
        "        lab=hot_encode(i['label'])\n",
        "        if lab==1:\n",
        "          key.append(word(i,lab))\n",
        "        if lab==2:\n",
        "          value.append(word(i,lab))\n",
        "      input=[]\n",
        "      output=[]\n",
        "      for i in key:\n",
        "        for j in value:\n",
        "          input.append(feature_extractor([i.coordinate,j.coordinate]))\n",
        "          output.append(1 if j.id in i.idm else 0)\n",
        "      dataset['input']+=input\n",
        "      dataset['output']+=output\n",
        "  dataset['input']=dataset['input']\n",
        "  dataset['output']=dataset['output']\n",
        "  buffer_input=[]\n",
        "  buffer_output=[]\n",
        "  for i in range(len(dataset['input'])):\n",
        "    if dataset['output'][i]==1:\n",
        "      buffer_input.append(dataset['input'][i])\n",
        "      buffer_output.append(dataset['output'][i])\n",
        "  for i in range(n):\n",
        "    dataset['input']+=buffer_input\n",
        "    dataset['output']+=buffer_output\n",
        "  if flag==1:\n",
        "    return dataset\n",
        "  dataset_ = tf.data.Dataset.from_tensor_slices((np.array(dataset['input']), np.array(dataset['output'])))\n",
        "  dataset_ = dataset_.shuffle(100000).batch(16, drop_remainder=True)\n",
        "  return dataset_\n",
        "\n",
        "def plot_graphs(history, metric):\n",
        "  plt.plot(history.history[metric])\n",
        "  plt.plot(history.history['val_'+metric], '')\n",
        "  plt.xlabel(\"Epochs\")\n",
        "  plt.ylabel(metric)\n",
        "  plt.legend([metric, 'val_'+metric])"
      ]
    },
    {
      "cell_type": "code",
      "execution_count": 4,
      "metadata": {
        "id": "nc0MpoeKe4Tw"
      },
      "outputs": [],
      "source": [
        "#Data-Extraction\n",
        "train_data = extract('extractify-doc/dataset/training_data/annotations',3)\n",
        "test_data = extract('extractify-doc/dataset/testing_data/annotations',3)"
      ]
    },
    {
      "cell_type": "code",
      "execution_count": 13,
      "metadata": {
        "colab": {
          "base_uri": "https://localhost:8080/"
        },
        "id": "tiYo1Dxlnuhf",
        "outputId": "8d5c35c1-a814-4346-a0b8-e07dbc383d47"
      },
      "outputs": [
        {
          "output_type": "stream",
          "name": "stdout",
          "text": [
            "Epoch 1/5\n",
            "5446/5446 [==============================] - 20s 4ms/step - loss: 0.1758 - accuracy: 0.9358 - val_loss: 0.1521 - val_accuracy: 0.9349\n",
            "Epoch 2/5\n",
            "5446/5446 [==============================] - 20s 4ms/step - loss: 0.1612 - accuracy: 0.9408 - val_loss: 0.1464 - val_accuracy: 0.9418\n",
            "Epoch 3/5\n",
            "5446/5446 [==============================] - 20s 4ms/step - loss: 0.1571 - accuracy: 0.9431 - val_loss: 0.1472 - val_accuracy: 0.9405\n",
            "Epoch 4/5\n",
            "5446/5446 [==============================] - 20s 4ms/step - loss: 0.1548 - accuracy: 0.9432 - val_loss: 0.1431 - val_accuracy: 0.9427\n",
            "Epoch 5/5\n",
            "5446/5446 [==============================] - 20s 4ms/step - loss: 0.1531 - accuracy: 0.9443 - val_loss: 0.1406 - val_accuracy: 0.9425\n",
            "1514/1514 [==============================] - 3s 2ms/step - loss: 0.1405 - accuracy: 0.9425\n"
          ]
        },
        {
          "output_type": "execute_result",
          "data": {
            "text/plain": [
              "[0.1404915452003479, 0.9425363540649414]"
            ]
          },
          "metadata": {},
          "execution_count": 13
        }
      ],
      "source": [
        "import tensorflow as tf \n",
        "from matplotlib import pyplot as plt \n",
        "import numpy as np \n",
        "\n",
        "\n",
        "model = tf.keras.models.Sequential([tf.keras.layers.InputLayer(input_shape=(4,)), \n",
        "                                    tf.keras.layers.Dense(512, activation='relu'),\n",
        "                                    tf.keras.layers.Dense(512, activation='relu'),\n",
        "                                    tf.keras.layers.Dense(512, activation='relu'), \n",
        "                                    tf.keras.layers.Dense(2, activation=tf.nn.softmax)])\n",
        "model.compile(optimizer = 'adam',\n",
        "              loss = 'sparse_categorical_crossentropy',\n",
        "              metrics=['accuracy'])\n",
        "\n",
        "history = model.fit(train_data,validation_data=test_data, epochs=5)\n",
        "model.evaluate(test_data)"
      ]
    },
    {
      "cell_type": "code",
      "source": [
        "model.summary()"
      ],
      "metadata": {
        "colab": {
          "base_uri": "https://localhost:8080/"
        },
        "id": "_6S4qqjefBvN",
        "outputId": "09d71612-ab96-4e54-d9cd-7614e595182f"
      },
      "execution_count": 14,
      "outputs": [
        {
          "output_type": "stream",
          "name": "stdout",
          "text": [
            "Model: \"sequential_1\"\n",
            "_________________________________________________________________\n",
            " Layer (type)                Output Shape              Param #   \n",
            "=================================================================\n",
            " dense_4 (Dense)             (None, 512)               2560      \n",
            "                                                                 \n",
            " dense_5 (Dense)             (None, 512)               262656    \n",
            "                                                                 \n",
            " dense_6 (Dense)             (None, 512)               262656    \n",
            "                                                                 \n",
            " dense_7 (Dense)             (None, 2)                 1026      \n",
            "                                                                 \n",
            "=================================================================\n",
            "Total params: 528,898\n",
            "Trainable params: 528,898\n",
            "Non-trainable params: 0\n",
            "_________________________________________________________________\n"
          ]
        }
      ]
    },
    {
      "cell_type": "code",
      "source": [
        "#model.save('/content/drive/MyDrive/MODELS/linking')\n",
        "model.save('MODELS/linking')"
      ],
      "metadata": {
        "id": "V5DmPtow9DRJ",
        "colab": {
          "base_uri": "https://localhost:8080/"
        },
        "outputId": "7361029c-15d4-43de-c68e-36f66105351b"
      },
      "execution_count": 39,
      "outputs": [
        {
          "output_type": "stream",
          "name": "stdout",
          "text": [
            "INFO:tensorflow:Assets written to: MODELS/linking/assets\n"
          ]
        }
      ]
    },
    {
      "cell_type": "markdown",
      "source": [
        "# **Model-Metrics**"
      ],
      "metadata": {
        "id": "D2tYnRSr5diB"
      }
    },
    {
      "cell_type": "code",
      "source": [
        "model.evaluate(test_data)"
      ],
      "metadata": {
        "colab": {
          "base_uri": "https://localhost:8080/"
        },
        "id": "nCRK6f_VU49_",
        "outputId": "022c6c62-b137-4eb0-f6bc-ddbc51215087"
      },
      "execution_count": 32,
      "outputs": [
        {
          "output_type": "stream",
          "name": "stdout",
          "text": [
            "1514/1514 [==============================] - 4s 2ms/step - loss: 0.1406 - accuracy: 0.9425\n"
          ]
        },
        {
          "output_type": "execute_result",
          "data": {
            "text/plain": [
              "[0.14059951901435852, 0.9425363540649414]"
            ]
          },
          "metadata": {},
          "execution_count": 32
        }
      ]
    },
    {
      "cell_type": "code",
      "source": [
        "plt.figure(figsize=(16, 8))\n",
        "plt.subplot(1, 2, 1)\n",
        "plot_graphs(history, 'accuracy')\n",
        "plt.ylim(0.92, 0.98)\n",
        "plt.subplot(1, 2, 2)\n",
        "plot_graphs(history, 'loss')\n",
        "plt.ylim(0, 0.2)"
      ],
      "metadata": {
        "colab": {
          "base_uri": "https://localhost:8080/",
          "height": 518
        },
        "id": "M6aFj5nc6m9y",
        "outputId": "745a707a-fd45-4153-fbc7-ddfb57698432"
      },
      "execution_count": 33,
      "outputs": [
        {
          "output_type": "execute_result",
          "data": {
            "text/plain": [
              "(0.0, 0.2)"
            ]
          },
          "metadata": {},
          "execution_count": 33
        },
        {
          "output_type": "display_data",
          "data": {
            "image/png": "[encoded data removed]",
            "text/plain": [
              "<Figure size 1152x576 with 2 Axes>"
            ]
          },
          "metadata": {
            "needs_background": "light"
          }
        }
      ]
    },
    {
      "cell_type": "code",
      "execution_count": 25,
      "metadata": {
        "id": "Lb3S410npTp0"
      },
      "outputs": [],
      "source": [
        "ds=extract('extractify-doc/dataset/testing_data/annotations',0,1)\n",
        "y_prob=model.predict(ds['input'])\n",
        "y_pred=np.array([np.argmax(i) for i in y_prob])\n",
        "y_true=ds['output']"
      ]
    },
    {
      "cell_type": "code",
      "source": [
        "print(metrics.classification_report(y_true,y_pred))"
      ],
      "metadata": {
        "id": "PGre0Xy9bfIM",
        "outputId": "637e1a18-a1ff-4d6d-9ced-0332164040ce",
        "colab": {
          "base_uri": "https://localhost:8080/"
        }
      },
      "execution_count": 26,
      "outputs": [
        {
          "output_type": "stream",
          "name": "stdout",
          "text": [
            "              precision    recall  f1-score   support\n",
            "\n",
            "           0       0.99      0.98      0.98     20890\n",
            "           1       0.57      0.72      0.64       837\n",
            "\n",
            "    accuracy                           0.97     21727\n",
            "   macro avg       0.78      0.85      0.81     21727\n",
            "weighted avg       0.97      0.97      0.97     21727\n",
            "\n"
          ]
        }
      ]
    },
    {
      "cell_type": "code",
      "source": [
        "skplt.metrics.plot_confusion_matrix(y_true, y_pred)\n",
        "plt.show()"
      ],
      "metadata": {
        "colab": {
          "base_uri": "https://localhost:8080/",
          "height": 295
        },
        "id": "DKRLZq8vjWLi",
        "outputId": "a4b2b1c3-0b7c-4d1b-9927-cc933bf0da91"
      },
      "execution_count": 34,
      "outputs": [
        {
          "output_type": "display_data",
          "data": {
            "image/png": "[encoded data removed]",
            "text/plain": [
              "<Figure size 432x288 with 2 Axes>"
            ]
          },
          "metadata": {
            "needs_background": "light"
          }
        }
      ]
    },
    {
      "cell_type": "code",
      "source": [
        "skplt.metrics.plot_roc(y_true,y_prob)"
      ],
      "metadata": {
        "colab": {
          "base_uri": "https://localhost:8080/",
          "height": 312
        },
        "id": "mCdwWbd460iQ",
        "outputId": "38952aab-e932-4a5f-b318-c007536e4efa"
      },
      "execution_count": 35,
      "outputs": [
        {
          "output_type": "execute_result",
          "data": {
            "text/plain": [
              "<matplotlib.axes._subplots.AxesSubplot at 0x7fac97671b10>"
            ]
          },
          "metadata": {},
          "execution_count": 35
        },
        {
          "output_type": "display_data",
          "data": {
            "image/png": "[encoded data removed]",
            "text/plain": [
              "<Figure size 432x288 with 1 Axes>"
            ]
          },
          "metadata": {
            "needs_background": "light"
          }
        }
      ]
    },
    {
      "cell_type": "code",
      "source": [
        "f1_score=metrics.f1_score(y_true,y_pred,average=None)\n",
        "print('F1-Score')\n",
        "print('class(0) : not-linking :',f1_score[0])\n",
        "print('class(1) : linking :',f1_score[1])"
      ],
      "metadata": {
        "colab": {
          "base_uri": "https://localhost:8080/"
        },
        "id": "5VkMNp0a7R7X",
        "outputId": "1bb86985-c299-43bc-c398-40fcbdc485a1"
      },
      "execution_count": 36,
      "outputs": [
        {
          "output_type": "stream",
          "name": "stdout",
          "text": [
            "F1-Score\n",
            "class(0) : not-linking : 0.9832980361956103\n",
            "class(1) : linking : 0.6351209253417456\n"
          ]
        }
      ]
    },
    {
      "cell_type": "markdown",
      "source": [
        "# **Model Usage**"
      ],
      "metadata": {
        "id": "5RmF73ykXP9Z"
      }
    },
    {
      "cell_type": "code",
      "source": [
        "!pip install gdown==4.1.1"
      ],
      "metadata": {
        "id": "TNkspCTybH_P"
      },
      "execution_count": null,
      "outputs": []
    },
    {
      "cell_type": "code",
      "source": [
        "import tensorflow as tf\n",
        "import numpy as np\n",
        "import gdown\n",
        "import os\n",
        "\n",
        "\n",
        "class linking_classifier:\n",
        "  def __init__(self):\n",
        "    path='./static/MODELS/linking'\n",
        "    url='https://drive.google.com/drive/folders/1vDUBSS6cXyZdQTwtcXhg8BXBGGR_s7FT'\n",
        "    if not os.path.isdir(path):\n",
        "      gdown.download_folder(url,output=path, quiet=False)\n",
        "    self.model = tf.keras.models.load_model(path)  \n",
        " \n",
        "  def ext(self,box):\n",
        "    width=box[2]-box[0]\n",
        "    height=box[3]-box[1]\n",
        "    c_x=(box[0]+box[2])/2\n",
        "    c_y=(box[1]+box[3])/2\n",
        "    return c_x,c_y,width,height\n",
        "\n",
        "  def preprocessing(self, input_data1,input_data2):\n",
        "    b1=self.ext(input_data1)\n",
        "    b2=self.ext(input_data2)\n",
        "    dis=(b1[0]-b2[0])**2 + (b1[1]-b2[1])**2\n",
        "    dis=dis**0.5\n",
        "    sin=(b1[1]-b2[1])/dis\n",
        "    sin*= -1 if sin<0 else 1\n",
        "    relative_width = b1[2]/b2[2] if b2[2]>b1[2] else b2[2]/b1[2]\n",
        "    relative_height = b1[3]/b2[3] if b2[3]>b1[3] else b2[3]/b1[3]\n",
        "    return [dis/1000,sin,relative_width,relative_height]\n",
        "\n",
        "  def predict(self, input_data):\n",
        "    return self.model.predict(np.array([input_data]))[0]\n",
        "\n",
        "  def postprocessing(self, input_data):\n",
        "    bins={1:'linked',0:'unlinked'}\n",
        "    return bins[np.argmax(input_data)],str(np.max(input_data))\n",
        "\n",
        "  def compute_prediction(self, input_data1,input_data2):\n",
        "    try:\n",
        "      input_data = self.preprocessing(input_data1,input_data2)\n",
        "      prediction = self.predict(input_data)\n",
        "      prediction = self.postprocessing(prediction)\n",
        "    except Exception as e:\n",
        "      return {\"status\": \"Error\", \"message\": str(e)}\n",
        "    return prediction"
      ],
      "metadata": {
        "id": "7o2-ceCQXyYZ"
      },
      "execution_count": 3,
      "outputs": []
    },
    {
      "cell_type": "code",
      "source": [
        "#Intialize Model-Object\n",
        "linker = linking_classifier() "
      ],
      "metadata": {
        "id": "D8bL1S2lYVRx"
      },
      "execution_count": 5,
      "outputs": []
    },
    {
      "cell_type": "code",
      "source": [
        "key_box=[102,345,129,359]          #key bounding box coordinate\n",
        "value_box=[142,342,236,360]        #value bounding box coordinate\n",
        "prediction=linker.compute_prediction(key_box,value_box)\n",
        "print(prediction) #(label,confidence)"
      ],
      "metadata": {
        "colab": {
          "base_uri": "https://localhost:8080/"
        },
        "id": "p2mYu_1vb2Yv",
        "outputId": "ad5c7f40-7e73-4e16-af4c-d8f1616d945a"
      },
      "execution_count": 7,
      "outputs": [
        {
          "output_type": "stream",
          "name": "stdout",
          "text": [
            "('linked', '0.95006293')\n"
          ]
        }
      ]
    }
  ],
  "metadata": {
    "accelerator": "GPU",
    "colab": {
      "name": "linking_Model.ipynb",
      "provenance": []
    },
    "kernelspec": {
      "display_name": "Python 3",
      "name": "python3"
    },
    "language_info": {
      "name": "python"
    }
  },
  "nbformat": 4,
  "nbformat_minor": 0
}