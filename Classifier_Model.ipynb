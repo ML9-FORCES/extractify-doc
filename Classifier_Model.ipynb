{
  "nbformat": 4,
  "nbformat_minor": 0,
  "metadata": {
    "colab": {
      "name": "Classifier_Model.ipynb",
      "provenance": [],
      "collapsed_sections": []
    },
    "kernelspec": {
      "name": "python3",
      "display_name": "Python 3"
    },
    "language_info": {
      "name": "python"
    },
    "accelerator": "GPU"
  },
  "cells": [
    {
      "cell_type": "markdown",
      "source": [
        "# **Model Training**"
      ],
      "metadata": {
        "id": "pSyrw8yngaut"
      }
    },
    {
      "cell_type": "code",
      "source": [
        "#Dataset-download\n",
        "!git clone https://github.com/ML9-FORCES/extractify-doc"
      ],
      "metadata": {
        "id": "2S7X_7nPirGL"
      },
      "execution_count": null,
      "outputs": []
    },
    {
      "cell_type": "code",
      "source": [
        "#library - (Required in Usage & training)\n",
        "!pip install transformers\n",
        "from transformers import BertTokenizer\n",
        "import tensorflow as tf\n",
        "import numpy as np\n",
        "\n",
        "#library - (Required in training only)\n",
        "!pip install scikit-plot\n",
        "import scikitplot as skplt\n",
        "import sklearn.metrics as metrics\n",
        "import pandas as pd\n",
        "import os\n",
        "import json\n",
        "import matplotlib.pyplot as plt\n",
        "\n",
        "#Helper-function \n",
        "\n",
        "#Dynamic Encoder & Decoder for classes\n",
        "def hot_encode(value):\n",
        "  encode={'question': 1 ,'other': 0, 'header': 0, 'answer': 2}\n",
        "  decode={1:'key',2:'value',0:'other'}\n",
        "  try:\n",
        "    return encode[value]\n",
        "  except:\n",
        "    return decode[value]\n",
        "\n",
        "#Wrappper for Post & Pre Processing over Model Usage.\n",
        "def predict(text,seq_len=50,mode=0):\n",
        "    tokens = tokenizer.encode_plus(text, max_length=seq_len,\n",
        "                                   truncation=True, padding='max_length',\n",
        "                                   add_special_tokens=True, return_token_type_ids=False,\n",
        "                                   return_tensors='tf')\n",
        "    # tokenizer returns int32 tensors, we need to return float64, so we use tf.cast\n",
        "    in_tensor = {'input_ids': tf.cast(tokens['input_ids'], tf.float64),\n",
        "            'attention_mask': tf.cast(tokens['attention_mask'], tf.float64)}\n",
        "    probs = model.predict(in_tensor)[0]\n",
        "    if mode ==1:\n",
        "      return probs\n",
        "    return np.argmax(probs)\n",
        "\n",
        "#Extracts Data From Dataset\n",
        "def extract(path):\n",
        "  arr =[]\n",
        "  for filename in os.listdir(path):\n",
        "    f = os.path.join(path, filename)\n",
        "    if os.path.isfile(f):\n",
        "      file_ = open(f)\n",
        "      data = json.load(file_)\n",
        "      file_.close()\n",
        "      for i in data['form']:\n",
        "        arr.append([i['text'],hot_encode(i['label'])])\n",
        "  df = pd.DataFrame(data = np.array(arr), columns = ['text', 'label'])\n",
        "  return df\n",
        "\n",
        "#Processing Data-Frames to TensorData with batch & Shuffle\n",
        "def tf_data(df,seq_len=246,batch_size=16,suffle=10000):\n",
        "  num_samples = len(df)\n",
        "  Xids = np.zeros((num_samples, seq_len))\n",
        "  Xmask = np.zeros((num_samples, seq_len))\n",
        "  tokenizer = BertTokenizer.from_pretrained('bert-base-cased')\n",
        "  for i, phrase in enumerate(df['text']):\n",
        "    tokens = tokenizer.encode_plus(phrase, max_length=seq_len, truncation=True,\n",
        "                                   padding='max_length', add_special_tokens=True,\n",
        "                                   return_tensors='tf')\n",
        "    Xids[i, :] = tokens['input_ids']\n",
        "    Xmask[i, :] = tokens['attention_mask']\n",
        "  df['label'] = df['label'].astype(int)\n",
        "  arr = df['label'].values\n",
        "  labels = np.zeros((num_samples, arr.max()+1))\n",
        "  labels[np.arange(num_samples), arr] = 1\n",
        "  dataset = tf.data.Dataset.from_tensor_slices((Xids, Xmask, labels))\n",
        "  def map_func(input_ids, masks, labels):\n",
        "    return {'input_ids': input_ids, 'attention_mask': masks}, labels\n",
        "  dataset = dataset.map(map_func)\n",
        "  dataset = dataset.shuffle(suffle).batch(batch_size, drop_remainder=True)\n",
        "  return dataset\n",
        "\n",
        "#For Ploting Loss & Accuracy Curves\n",
        "def plot_graphs(history, metric):\n",
        "  plt.plot(history.history[metric])\n",
        "  plt.plot(history.history['val_'+metric], '')\n",
        "  plt.xlabel(\"Epochs\")\n",
        "  plt.ylabel(metric)\n",
        "  plt.legend([metric, 'val_'+metric])"
      ],
      "metadata": {
        "id": "COj1KLeeILwQ"
      },
      "execution_count": null,
      "outputs": []
    },
    {
      "cell_type": "code",
      "execution_count": null,
      "metadata": {
        "id": "HuBWtQV0CS6d"
      },
      "outputs": [],
      "source": [
        "#Parameters\n",
        "seq_len=50\n",
        "batch_size=16\n",
        "suffle=10000\n",
        "node=1024\n",
        "learning_rate=1e-5\n",
        "decay=1e-6\n",
        "\n",
        "#Data_Frames-Extraction\n",
        "train_data = extract('extractify-doc/dataset/training_data/annotations')\n",
        "test_data = extract('extractify-doc/dataset/testing_data/annotations')\n",
        "\n",
        "#Tensor-dataset\n",
        "train_ds = tf_data(train_data,seq_len,batch_size,suffle)\n",
        "val_ds = tf_data(test_data,seq_len,batch_size,suffle)"
      ]
    },
    {
      "cell_type": "code",
      "source": [
        "#Building-Model\n",
        "from transformers import TFAutoModel\n",
        "bert = TFAutoModel.from_pretrained('bert-base-cased')\n",
        "input_ids = tf.keras.layers.Input(shape=(seq_len,), name='input_ids', dtype='int32')\n",
        "mask = tf.keras.layers.Input(shape=(seq_len,), name='attention_mask', dtype='int32')\n",
        "embeddings = bert.bert(input_ids, attention_mask=mask)[1]  # access pooled activations with [1]\n",
        "x = tf.keras.layers.Dense(node, activation='relu')(embeddings)\n",
        "y = tf.keras.layers.Dense(3, activation='softmax', name='outputs')(x)\n",
        "model = tf.keras.Model(inputs=[input_ids, mask], outputs=y)\n",
        "#model.layers[2].trainable = False # (optional) freeze bert layer\n",
        "optimizer = tf.keras.optimizers.Adam(lr=learning_rate, decay=decay)\n",
        "loss = tf.keras.losses.CategoricalCrossentropy()\n",
        "acc = tf.keras.metrics.CategoricalAccuracy('accuracy')\n",
        "model.compile(optimizer=optimizer, loss=loss, metrics=[acc])"
      ],
      "metadata": {
        "id": "oMHXCzU-ONrz"
      },
      "execution_count": null,
      "outputs": []
    },
    {
      "cell_type": "code",
      "source": [
        "#model-summary\n",
        "model.summary()"
      ],
      "metadata": {
        "colab": {
          "base_uri": "https://localhost:8080/"
        },
        "id": "oD_CA7zhB4e3",
        "outputId": "eed6c04d-fe04-4971-ffab-0e1aa00b5c89"
      },
      "execution_count": null,
      "outputs": [
        {
          "output_type": "stream",
          "name": "stdout",
          "text": [
            "Model: \"model\"\n",
            "__________________________________________________________________________________________________\n",
            " Layer (type)                   Output Shape         Param #     Connected to                     \n",
            "==================================================================================================\n",
            " input_ids (InputLayer)         [(None, 50)]         0           []                               \n",
            "                                                                                                  \n",
            " attention_mask (InputLayer)    [(None, 50)]         0           []                               \n",
            "                                                                                                  \n",
            " bert (TFBertMainLayer)         TFBaseModelOutputWi  108310272   ['input_ids[0][0]',              \n",
            "                                thPoolingAndCrossAt               'attention_mask[0][0]']         \n",
            "                                tentions(last_hidde                                               \n",
            "                                n_state=(None, 50,                                                \n",
            "                                768),                                                             \n",
            "                                 pooler_output=(Non                                               \n",
            "                                e, 768),                                                          \n",
            "                                 past_key_values=No                                               \n",
            "                                ne, hidden_states=N                                               \n",
            "                                one, attentions=Non                                               \n",
            "                                e, cross_attentions                                               \n",
            "                                =None)                                                            \n",
            "                                                                                                  \n",
            " dense (Dense)                  (None, 1024)         787456      ['bert[0][1]']                   \n",
            "                                                                                                  \n",
            " outputs (Dense)                (None, 3)            3075        ['dense[0][0]']                  \n",
            "                                                                                                  \n",
            "==================================================================================================\n",
            "Total params: 109,100,803\n",
            "Trainable params: 109,100,803\n",
            "Non-trainable params: 0\n",
            "__________________________________________________________________________________________________\n"
          ]
        }
      ]
    },
    {
      "cell_type": "code",
      "source": [
        "#model-fit\n",
        "history = model.fit(\n",
        "    train_ds,\n",
        "    validation_data=val_ds,\n",
        "    epochs=3\n",
        ")"
      ],
      "metadata": {
        "id": "EsdfFZYWOeG9",
        "colab": {
          "base_uri": "https://localhost:8080/"
        },
        "outputId": "006e500b-b879-4eea-ba47-a2bd35a65ba0"
      },
      "execution_count": null,
      "outputs": [
        {
          "output_type": "stream",
          "name": "stdout",
          "text": [
            "Epoch 1/3\n",
            "463/463 [==============================] - 199s 401ms/step - loss: 0.6915 - accuracy: 0.7261 - val_loss: 0.5184 - val_accuracy: 0.8017\n",
            "Epoch 2/3\n",
            "463/463 [==============================] - 183s 394ms/step - loss: 0.5185 - accuracy: 0.8079 - val_loss: 0.5049 - val_accuracy: 0.8086\n",
            "Epoch 3/3\n",
            "463/463 [==============================] - 182s 394ms/step - loss: 0.4201 - accuracy: 0.8460 - val_loss: 0.5005 - val_accuracy: 0.8121\n"
          ]
        }
      ]
    },
    {
      "cell_type": "code",
      "source": [
        "#saving_model\n",
        "model.save('MODEL/classifier')\n",
        "#model.save('/content/drive/MyDrive/MODELS/classifier')"
      ],
      "metadata": {
        "id": "NBQBUL7VOtHz"
      },
      "execution_count": null,
      "outputs": []
    },
    {
      "cell_type": "markdown",
      "source": [
        "# **Model-Metrics**"
      ],
      "metadata": {
        "id": "D2tYnRSr5diB"
      }
    },
    {
      "cell_type": "code",
      "source": [
        "plt.figure(figsize=(16, 8))\n",
        "plt.subplot(1, 2, 1)\n",
        "plot_graphs(history, 'accuracy')\n",
        "plt.ylim(0, 1)\n",
        "plt.subplot(1, 2, 2)\n",
        "plot_graphs(history, 'loss')\n",
        "plt.ylim(0, 1)"
      ],
      "metadata": {
        "id": "6AOgT94_7E4N",
        "colab": {
          "base_uri": "https://localhost:8080/",
          "height": 518
        },
        "outputId": "255205af-5e4c-4b71-f9ca-c4c517238254"
      },
      "execution_count": null,
      "outputs": [
        {
          "output_type": "execute_result",
          "data": {
            "text/plain": [
              "(0.0, 1.0)"
            ]
          },
          "metadata": {},
          "execution_count": 19
        },
        {
          "output_type": "display_data",
          "data": {
            "image/png": "[encoded data removed]",
            "text/plain": [
              "<Figure size 1152x576 with 2 Axes>"
            ]
          },
          "metadata": {
            "needs_background": "light"
          }
        }
      ]
    },
    {
      "cell_type": "code",
      "source": [
        "test_loss, test_acc = model.evaluate(val_ds)\n",
        "print('Test Loss:', test_loss)\n",
        "print('Test Accuracy:', test_acc)"
      ],
      "metadata": {
        "id": "YsXbo-2E5cnb",
        "colab": {
          "base_uri": "https://localhost:8080/"
        },
        "outputId": "e7970434-5c26-4346-901c-5d1eeddab4a4"
      },
      "execution_count": null,
      "outputs": [
        {
          "output_type": "stream",
          "name": "stdout",
          "text": [
            "145/145 [==============================] - 17s 114ms/step - loss: 0.5001 - accuracy: 0.8125\n",
            "Test Loss: 0.5000534057617188\n",
            "Test Accuracy: 0.8125\n"
          ]
        }
      ]
    },
    {
      "cell_type": "code",
      "source": [
        "y_true=np.array([int(i) for i in test_data['label']])\n",
        "y_prob=np.array([predict(i,seq_len,1) for i in test_data['text']])\n",
        "y_pred=np.array([np.argmax(i) for i in y_prob])"
      ],
      "metadata": {
        "id": "k2FeSDh77slL"
      },
      "execution_count": null,
      "outputs": []
    },
    {
      "cell_type": "code",
      "source": [
        "print(metrics.classification_report(y_true,y_pred))"
      ],
      "metadata": {
        "colab": {
          "base_uri": "https://localhost:8080/"
        },
        "id": "JlOA4sVhBRKy",
        "outputId": "ba52a796-f83e-4a38-d656-e3f4d7ebb636"
      },
      "execution_count": null,
      "outputs": [
        {
          "output_type": "stream",
          "name": "stdout",
          "text": [
            "              precision    recall  f1-score   support\n",
            "\n",
            "           0       0.59      0.65      0.62       434\n",
            "           1       0.87      0.87      0.87      1077\n",
            "           2       0.87      0.82      0.85       821\n",
            "\n",
            "    accuracy                           0.81      2332\n",
            "   macro avg       0.78      0.78      0.78      2332\n",
            "weighted avg       0.82      0.81      0.81      2332\n",
            "\n"
          ]
        }
      ]
    },
    {
      "cell_type": "code",
      "source": [
        "skplt.metrics.plot_confusion_matrix(y_true, y_pred)\n",
        "plt.show()"
      ],
      "metadata": {
        "id": "DCEQjiFb664q",
        "colab": {
          "base_uri": "https://localhost:8080/",
          "height": 295
        },
        "outputId": "0f883f8c-0320-456a-e0bc-e97b3fa85121"
      },
      "execution_count": null,
      "outputs": [
        {
          "output_type": "display_data",
          "data": {
            "image/png": "[encoded data removed]",
            "text/plain": [
              "<Figure size 432x288 with 2 Axes>"
            ]
          },
          "metadata": {
            "needs_background": "light"
          }
        }
      ]
    },
    {
      "cell_type": "code",
      "source": [
        "skplt.metrics.plot_roc(y_true,y_prob)"
      ],
      "metadata": {
        "colab": {
          "base_uri": "https://localhost:8080/",
          "height": 312
        },
        "id": "cKMAHWHCMxMu",
        "outputId": "8d174985-2d00-4859-fdb0-43e7c3dff5b7"
      },
      "execution_count": null,
      "outputs": [
        {
          "output_type": "execute_result",
          "data": {
            "text/plain": [
              "<matplotlib.axes._subplots.AxesSubplot at 0x7f7f4cc01a50>"
            ]
          },
          "metadata": {},
          "execution_count": 90
        },
        {
          "output_type": "display_data",
          "data": {
            "image/png": "[encoded data removed]",
            "text/plain": [
              "<Figure size 432x288 with 1 Axes>"
            ]
          },
          "metadata": {
            "needs_background": "light"
          }
        }
      ]
    },
    {
      "cell_type": "code",
      "source": [
        "f1_score=metrics.f1_score(y_true,y_pred,average=None)\n",
        "print('F1-Score')\n",
        "print('class(0) : Other :',f1_score[0])\n",
        "print('class(1) : Key :',f1_score[1])\n",
        "print('class(2) : Value :',f1_score[2])"
      ],
      "metadata": {
        "colab": {
          "base_uri": "https://localhost:8080/"
        },
        "id": "c0RiGAXHU-M1",
        "outputId": "d2c6155e-64aa-401f-8192-fb8003618031"
      },
      "execution_count": null,
      "outputs": [
        {
          "output_type": "stream",
          "name": "stdout",
          "text": [
            "F1-Score\n",
            "class(0) : Other : 0.6197802197802198\n",
            "class(1) : Key : 0.8676265675801209\n",
            "class(2) : Value : 0.8457214241099312\n"
          ]
        }
      ]
    },
    {
      "cell_type": "markdown",
      "source": [
        "# **Model-Usage**"
      ],
      "metadata": {
        "id": "vmsSMVychsnq"
      }
    },
    {
      "cell_type": "code",
      "source": [
        "#external requirement\n",
        "!pip install transformers\n",
        "!pip install gdown==4.1.1"
      ],
      "metadata": {
        "id": "5gVnR5Q7i8OL",
        "colab": {
          "base_uri": "https://localhost:8080/"
        },
        "outputId": "eac82161-b9cf-43ad-f70e-7ebb984627bc"
      },
      "execution_count": 1,
      "outputs": [
        {
          "output_type": "stream",
          "name": "stdout",
          "text": [
            "Collecting transformers\n",
            "  Downloading transformers-4.15.0-py3-none-any.whl (3.4 MB)\n",
            "\u001b[K     |████████████████████████████████| 3.4 MB 12.5 MB/s \n",
            "\u001b[?25hRequirement already satisfied: numpy>=1.17 in /usr/local/lib/python3.7/dist-packages (from transformers) (1.19.5)\n",
            "Requirement already satisfied: tqdm>=4.27 in /usr/local/lib/python3.7/dist-packages (from transformers) (4.62.3)\n",
            "Collecting pyyaml>=5.1\n",
            "  Downloading PyYAML-6.0-cp37-cp37m-manylinux_2_5_x86_64.manylinux1_x86_64.manylinux_2_12_x86_64.manylinux2010_x86_64.whl (596 kB)\n",
            "\u001b[K     |████████████████████████████████| 596 kB 25.1 MB/s \n",
            "\u001b[?25hRequirement already satisfied: filelock in /usr/local/lib/python3.7/dist-packages (from transformers) (3.4.0)\n",
            "Collecting huggingface-hub<1.0,>=0.1.0\n",
            "  Downloading huggingface_hub-0.2.1-py3-none-any.whl (61 kB)\n",
            "\u001b[K     |████████████████████████████████| 61 kB 497 kB/s \n",
            "\u001b[?25hRequirement already satisfied: requests in /usr/local/lib/python3.7/dist-packages (from transformers) (2.23.0)\n",
            "Requirement already satisfied: importlib-metadata in /usr/local/lib/python3.7/dist-packages (from transformers) (4.8.2)\n",
            "Collecting sacremoses\n",
            "  Downloading sacremoses-0.0.46-py3-none-any.whl (895 kB)\n",
            "\u001b[K     |████████████████████████████████| 895 kB 50.7 MB/s \n",
            "\u001b[?25hCollecting tokenizers<0.11,>=0.10.1\n",
            "  Downloading tokenizers-0.10.3-cp37-cp37m-manylinux_2_5_x86_64.manylinux1_x86_64.manylinux_2_12_x86_64.manylinux2010_x86_64.whl (3.3 MB)\n",
            "\u001b[K     |████████████████████████████████| 3.3 MB 41.3 MB/s \n",
            "\u001b[?25hRequirement already satisfied: packaging>=20.0 in /usr/local/lib/python3.7/dist-packages (from transformers) (21.3)\n",
            "Requirement already satisfied: regex!=2019.12.17 in /usr/local/lib/python3.7/dist-packages (from transformers) (2019.12.20)\n",
            "Requirement already satisfied: typing-extensions>=3.7.4.3 in /usr/local/lib/python3.7/dist-packages (from huggingface-hub<1.0,>=0.1.0->transformers) (3.10.0.2)\n",
            "Requirement already satisfied: pyparsing!=3.0.5,>=2.0.2 in /usr/local/lib/python3.7/dist-packages (from packaging>=20.0->transformers) (3.0.6)\n",
            "Requirement already satisfied: zipp>=0.5 in /usr/local/lib/python3.7/dist-packages (from importlib-metadata->transformers) (3.6.0)\n",
            "Requirement already satisfied: urllib3!=1.25.0,!=1.25.1,<1.26,>=1.21.1 in /usr/local/lib/python3.7/dist-packages (from requests->transformers) (1.24.3)\n",
            "Requirement already satisfied: certifi>=2017.4.17 in /usr/local/lib/python3.7/dist-packages (from requests->transformers) (2021.10.8)\n",
            "Requirement already satisfied: idna<3,>=2.5 in /usr/local/lib/python3.7/dist-packages (from requests->transformers) (2.10)\n",
            "Requirement already satisfied: chardet<4,>=3.0.2 in /usr/local/lib/python3.7/dist-packages (from requests->transformers) (3.0.4)\n",
            "Requirement already satisfied: click in /usr/local/lib/python3.7/dist-packages (from sacremoses->transformers) (7.1.2)\n",
            "Requirement already satisfied: six in /usr/local/lib/python3.7/dist-packages (from sacremoses->transformers) (1.15.0)\n",
            "Requirement already satisfied: joblib in /usr/local/lib/python3.7/dist-packages (from sacremoses->transformers) (1.1.0)\n",
            "Installing collected packages: pyyaml, tokenizers, sacremoses, huggingface-hub, transformers\n",
            "  Attempting uninstall: pyyaml\n",
            "    Found existing installation: PyYAML 3.13\n",
            "    Uninstalling PyYAML-3.13:\n",
            "      Successfully uninstalled PyYAML-3.13\n",
            "Successfully installed huggingface-hub-0.2.1 pyyaml-6.0 sacremoses-0.0.46 tokenizers-0.10.3 transformers-4.15.0\n",
            "Collecting gdown==4.1.1\n",
            "  Downloading gdown-4.1.1.tar.gz (13 kB)\n",
            "  Installing build dependencies ... \u001b[?25l\u001b[?25hdone\n",
            "  Getting requirements to build wheel ... \u001b[?25l\u001b[?25hdone\n",
            "    Preparing wheel metadata ... \u001b[?25l\u001b[?25hdone\n",
            "Requirement already satisfied: tqdm in /usr/local/lib/python3.7/dist-packages (from gdown==4.1.1) (4.62.3)\n",
            "Requirement already satisfied: filelock in /usr/local/lib/python3.7/dist-packages (from gdown==4.1.1) (3.4.0)\n",
            "Requirement already satisfied: beautifulsoup4 in /usr/local/lib/python3.7/dist-packages (from gdown==4.1.1) (4.6.3)\n",
            "Requirement already satisfied: requests[socks] in /usr/local/lib/python3.7/dist-packages (from gdown==4.1.1) (2.23.0)\n",
            "Requirement already satisfied: six in /usr/local/lib/python3.7/dist-packages (from gdown==4.1.1) (1.15.0)\n",
            "Requirement already satisfied: idna<3,>=2.5 in /usr/local/lib/python3.7/dist-packages (from requests[socks]->gdown==4.1.1) (2.10)\n",
            "Requirement already satisfied: urllib3!=1.25.0,!=1.25.1,<1.26,>=1.21.1 in /usr/local/lib/python3.7/dist-packages (from requests[socks]->gdown==4.1.1) (1.24.3)\n",
            "Requirement already satisfied: certifi>=2017.4.17 in /usr/local/lib/python3.7/dist-packages (from requests[socks]->gdown==4.1.1) (2021.10.8)\n",
            "Requirement already satisfied: chardet<4,>=3.0.2 in /usr/local/lib/python3.7/dist-packages (from requests[socks]->gdown==4.1.1) (3.0.4)\n",
            "Requirement already satisfied: PySocks!=1.5.7,>=1.5.6 in /usr/local/lib/python3.7/dist-packages (from requests[socks]->gdown==4.1.1) (1.7.1)\n",
            "Building wheels for collected packages: gdown\n",
            "  Building wheel for gdown (PEP 517) ... \u001b[?25l\u001b[?25hdone\n",
            "  Created wheel for gdown: filename=gdown-4.1.1-py3-none-any.whl size=14211 sha256=904aeed3500d45057cfc662e5a317ebd0ec97fae410a42879a2e04f1ebd107b6\n",
            "  Stored in directory: /root/.cache/pip/wheels/0c/45/5c/0c6bf549923e217b4a0fd24a90ce36e0d183ca50b7a1a7306d\n",
            "Successfully built gdown\n",
            "Installing collected packages: gdown\n",
            "  Attempting uninstall: gdown\n",
            "    Found existing installation: gdown 3.6.4\n",
            "    Uninstalling gdown-3.6.4:\n",
            "      Successfully uninstalled gdown-3.6.4\n",
            "Successfully installed gdown-4.1.1\n"
          ]
        }
      ]
    },
    {
      "cell_type": "code",
      "source": [
        "#Library\n",
        "from transformers import BertTokenizer\n",
        "import tensorflow as tf\n",
        "import numpy as np\n",
        "import gdown\n",
        "import os"
      ],
      "metadata": {
        "id": "mZb63yhOilIL"
      },
      "execution_count": 2,
      "outputs": []
    },
    {
      "cell_type": "code",
      "source": [
        "#bert_classifier Class\n",
        "class bert_classifier:\n",
        "    def __init__(self):\n",
        "        path='./static/MODELS/bert_classifier'\n",
        "        url='https://drive.google.com/drive/folders/1u8pPnb2qPTt67Yf3v8enC2pF2HpyWaEc'\n",
        "        if not os.path.isdir(path):\n",
        "            gdown.download_folder(url,output=path, quiet=False)\n",
        "        self.tokenizer = BertTokenizer.from_pretrained('bert-base-cased')\n",
        "        self.model = tf.keras.models.load_model(path) \n",
        "\n",
        "    def preprocessing(self, input_data):\n",
        "        tokens = self.tokenizer.encode_plus(input_data, max_length=50,\n",
        "                                   truncation=True, padding='max_length',\n",
        "                                   add_special_tokens=True, return_token_type_ids=False,\n",
        "                                   return_tensors='tf')\n",
        "        # tokenizer returns int32 tensors, we need to return float64, so we use tf.cast\n",
        "        in_tensor = {'input_ids': tf.cast(tokens['input_ids'], tf.float64),\n",
        "            'attention_mask': tf.cast(tokens['attention_mask'], tf.float64)}\n",
        "        return in_tensor \n",
        "\n",
        "    def predict(self, input_data):\n",
        "        return self.model.predict(input_data)[0]\n",
        "\n",
        "    def postprocessing(self, input_data):\n",
        "        bins={1:'key',2:'value',0:'other'}\n",
        "        return bins[np.argmax(input_data)],str(np.max(input_data))\n",
        "\n",
        "    def compute_prediction(self, input_data):\n",
        "        try:\n",
        "            input_data = self.preprocessing(input_data)\n",
        "            prediction = self.predict(input_data)\n",
        "            prediction = self.postprocessing(prediction)\n",
        "        except Exception as e:\n",
        "            return {\"status\": \"Error\", \"message\": str(e)}\n",
        "        return prediction"
      ],
      "metadata": {
        "id": "Ib3uZ0U-hwO2"
      },
      "execution_count": 6,
      "outputs": []
    },
    {
      "cell_type": "code",
      "source": [
        "#Intialize Model-Object\n",
        "classifier = bert_classifier()"
      ],
      "metadata": {
        "id": "WDz9IuZ8k9Fw"
      },
      "execution_count": 7,
      "outputs": []
    },
    {
      "cell_type": "code",
      "source": [
        "text='DATE'\n",
        "prediction=classifier.compute_prediction(text)\n",
        "print(prediction) #(label,confidence)"
      ],
      "metadata": {
        "colab": {
          "base_uri": "https://localhost:8080/"
        },
        "id": "AML64WCXlLGM",
        "outputId": "9ee2e85c-7b2c-440b-d8f4-d82ff9197886"
      },
      "execution_count": 8,
      "outputs": [
        {
          "output_type": "stream",
          "name": "stdout",
          "text": [
            "('key', '0.9858148')\n"
          ]
        }
      ]
    }
  ]
}